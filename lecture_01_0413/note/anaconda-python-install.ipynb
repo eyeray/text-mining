{
 "cells": [
  {
   "cell_type": "markdown",
   "metadata": {},
   "source": [
    "# 아나콘다 파이썬 배포판의 설치\n",
    "\n",
    "## 준비\n",
    "\n",
    "이 글에서는 마이크로소프트 윈도우 운영체제에 아나콘다 파이썬 배포판을 설치하는 과정을 안내한다.\n",
    "설명의 기준이 되는 윈도우의 버전은 윈도우 10이지만 윈도우 7 이상이라면 동작에 큰 차이가 없다.\n",
    "특별히 유의해야 할 점은 **사용자의 홈디렉토리명에 공백이나 한글이 포함되지 않아야 한다**는 것이다. 즉, 다음 그림과 같이 탐색기를 실행하였을 때에 표시되는 홈디렉토리명이 한글과 공백이 없어야 한다."
   ]
  },
  {
   "cell_type": "markdown",
   "metadata": {},
   "source": [
    "![사용자 홈디렉토리 확인](figs/user-dir.png)"
   ]
  },
  {
   "cell_type": "markdown",
   "metadata": {},
   "source": [
    "만일 홈디렉토리명에 한글이나 공백이 포함되었다면 몇몇 파이썬 모듈이 제대로 설치되지 않거나 동작에 이상이 있을 수 있다. 그런데 한 번 만들어진 사용자 홈디렉토리명을 변경하는 것은 거의 불가능한 일이므로 윈도우에 새 사용자를 추가하여 이 문제를 해결해야 한다. 이 때 사용자명을 입력할 때에 한글과 공백이 없는 사용자명을 입력해야 한다."
   ]
  },
  {
   "cell_type": "markdown",
   "metadata": {},
   "source": [
    "## 설치 프로그램 내려받기\n",
    "\n",
    "아나콘다 파이썬 배포판의 내려받기 페이지(<https://www.continuum.io/downloads>)에서 볼 수 있는 것처럼 현재 아나콘다 파이썬 배포판의 최신판은 4.3.1이다. 그러나 이 강좌에서는 4.2.0을 사용하므로 그림과 같이 이전판 저장소 페이지(<https://repo.continuum.io/archive/index.html>)에서  설치 프로그램 파일 `Anaconda3-4.2.0-Windows-x86_64.exe`를 내려받아야 한다."
   ]
  },
  {
   "cell_type": "markdown",
   "metadata": {},
   "source": [
    "![아나콘다 파이썬 설치 프로그램 내려받기](figs/archive-page.png)"
   ]
  },
  {
   "cell_type": "markdown",
   "metadata": {},
   "source": [
    ">아나콘다 파이썬 4.2.0을 사용하는 것은 파이썬 3.5를 사용하기 위해서이다. 이전판 저장소 페이지의 주소를 입력하기 어려울 때에는 아나콘다 파이썬 내려받기 페이지(<https://www.continuum.io/downloads>)에서 \"Anaconda installer archive\" 링크를 따라가도 된다."
   ]
  },
  {
   "cell_type": "markdown",
   "metadata": {},
   "source": [
    "## 설치 프로그램 실행\n",
    "\n",
    "내려받은 설치 프로그램을 실행하여 주어진 기본 선택 사항대로 설치를 진행한다. \n",
    "특히 아래의 두 그림과 같이 \"Select Installation Type\" 창과 \"Advanced Installation Options\" 창의 기본 선택 사항을 반드시 유지하도록 하자. "
   ]
  },
  {
   "cell_type": "markdown",
   "metadata": {},
   "source": [
    "![설치 유형 선택](figs/just-me.png)"
   ]
  },
  {
   "cell_type": "markdown",
   "metadata": {},
   "source": [
    "![설치 선택 사항 선택](figs/install-option.png)"
   ]
  },
  {
   "cell_type": "markdown",
   "metadata": {},
   "source": [
    "## 참고"
   ]
  },
  {
   "cell_type": "markdown",
   "metadata": {},
   "source": [
    "* 설치에 도움이 필요한 참여자는 강좌 첫날 도움을 받을 수 있다. 원활한 진행을 위해 설치 프로그램을 미리 내려받아 저장해 오면 편리하다.\n",
    "* 맥오에스, 또는 리눅스 사용자는 해당 운영체제용 아나콘다 파이썬 배포판을 설치할 수 있다. 설치 과정은 윈도우용과 그리 다르지 않다.\n",
    "* 사용자의 선택에 따라 다른 배포판을 사용할 수도 있는데 모듈 패키지 설치 등에 있어서 약간의 차이가 있을 수 있다."
   ]
  }
 ],
 "metadata": {
  "kernelspec": {
   "display_name": "Python 3",
   "language": "python",
   "name": "python3"
  },
  "language_info": {
   "codemirror_mode": {
    "name": "ipython",
    "version": 3
   },
   "file_extension": ".py",
   "mimetype": "text/x-python",
   "name": "python",
   "nbconvert_exporter": "python",
   "pygments_lexer": "ipython3",
   "version": "3.5.2"
  },
  "latex_metadata": {
   "author": "이기황",
   "coursetitle": "텍스트마이닝캠프",
   "courseyear": "2017",
   "date": "2017.04.10",
   "title": "아나콘다 파이썬 배포판의 설치"
  }
 },
 "nbformat": 4,
 "nbformat_minor": 2
}
